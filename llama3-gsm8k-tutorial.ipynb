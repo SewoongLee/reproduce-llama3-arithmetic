{
 "cells": [
  {
   "cell_type": "code",
   "execution_count": 1,
   "metadata": {},
   "outputs": [],
   "source": [
    "# !python.exe -m pip install --upgrade pip\n",
    "# !pip install --upgrade jupyter ipywidgets"
   ]
  },
  {
   "cell_type": "code",
   "execution_count": 2,
   "metadata": {},
   "outputs": [],
   "source": [
    "# !pip3 install torch torchvision torchaudio --index-url https://download.pytorch.org/whl/cu121"
   ]
  },
  {
   "cell_type": "code",
   "execution_count": 3,
   "metadata": {},
   "outputs": [],
   "source": [
    "# !pip install transformers accelerate bitsandbytes"
   ]
  },
  {
   "cell_type": "markdown",
   "metadata": {},
   "source": [
    "## HuggingFace Setting\n",
    "\n",
    "For Windows users, type the following command in Command Prompt:\n",
    "\n",
    "```\n",
    "setx HF_TOKEN \"your_token_here\"\n",
    "```\n",
    "\n",
    "For macOS users, type the following command in Terminal:\n",
    "\n",
    "```\n",
    "export HF_TOKEN=\"your_token_here\"\n",
    "```"
   ]
  },
  {
   "cell_type": "code",
   "execution_count": 4,
   "metadata": {},
   "outputs": [
    {
     "data": {
      "text/plain": [
       "'hf_...'"
      ]
     },
     "execution_count": 4,
     "metadata": {},
     "output_type": "execute_result"
    }
   ],
   "source": [
    "import os\n",
    "HF_TOKEN = os.getenv(\"HF_TOKEN\")\n",
    "HF_TOKEN[:3]+'...'"
   ]
  },
  {
   "cell_type": "markdown",
   "metadata": {},
   "source": [
    "## Load Model"
   ]
  },
  {
   "cell_type": "code",
   "execution_count": 5,
   "metadata": {},
   "outputs": [],
   "source": [
    "model_name = \"meta-llama/Meta-Llama-3-8B-Instruct\""
   ]
  },
  {
   "cell_type": "code",
   "execution_count": 6,
   "metadata": {},
   "outputs": [
    {
     "data": {
      "application/vnd.jupyter.widget-view+json": {
       "model_id": "d2a5f533b53042de81d80dbb39ff28bf",
       "version_major": 2,
       "version_minor": 0
      },
      "text/plain": [
       "Loading checkpoint shards:   0%|          | 0/4 [00:00<?, ?it/s]"
      ]
     },
     "metadata": {},
     "output_type": "display_data"
    }
   ],
   "source": [
    "import transformers\n",
    "import torch\n",
    "bnb_config = transformers.BitsAndBytesConfig(\n",
    "    load_in_4bit=True,\n",
    "    bnb_4bit_use_double_quant=True,\n",
    "    bnb_4bit_quant_type=\"nf4\",\n",
    "    bnb_4bit_compute_dtype=torch.bfloat16,\n",
    ")\n",
    "\n",
    "model = transformers.AutoModelForCausalLM.from_pretrained(\n",
    "    model_name,\n",
    "    device_map=\"auto\",\n",
    "    quantization_config=bnb_config,\n",
    "    token=HF_TOKEN,\n",
    ")"
   ]
  },
  {
   "cell_type": "code",
   "execution_count": 7,
   "metadata": {},
   "outputs": [
    {
     "name": "stderr",
     "output_type": "stream",
     "text": [
      "Special tokens have been added in the vocabulary, make sure the associated word embeddings are fine-tuned or trained.\n"
     ]
    },
    {
     "name": "stdout",
     "output_type": "stream",
     "text": [
      "Setting pad token to eos token\n"
     ]
    }
   ],
   "source": [
    "tokenizer = transformers.AutoTokenizer.from_pretrained(model_name, token=HF_TOKEN)\n",
    "if tokenizer.pad_token is None:\n",
    "    print(\"Setting pad token to eos token\")\n",
    "    tokenizer.pad_token = tokenizer.eos_token"
   ]
  },
  {
   "cell_type": "code",
   "execution_count": 8,
   "metadata": {},
   "outputs": [
    {
     "name": "stderr",
     "output_type": "stream",
     "text": [
      "e:\\reproduce-llama3-arithmetic\\.venv\\Lib\\site-packages\\transformers\\models\\llama\\modeling_llama.py:649: UserWarning: 1Torch was not compiled with flash attention. (Triggered internally at ..\\aten\\src\\ATen\\native\\transformers\\cuda\\sdp_utils.cpp:455.)\n",
      "  attn_output = torch.nn.functional.scaled_dot_product_attention(\n"
     ]
    },
    {
     "data": {
      "text/plain": [
       "\"What is Machine Learning? A Simple Explanation\\n\\nMachine learning is a subset of artificial intelligence (AI) that involves training algorithms to recognize patterns in data and make predictions or decisions based on that data.\\n\\nHere's a simple example to illustrate how machine learning works:\\n\\nImagine you're trying to predict whether someone will buy a house based on their age, income, and credit score. You collect data on a large number of people and their corresponding house-buying behaviors. Then, you use this data to train a machine learning algorithm to recognize patterns and make predictions about whether someone will buy a house based on their age, income, and credit score.\\n\\nThe algorithm learns to identify the\""
      ]
     },
     "execution_count": 8,
     "metadata": {},
     "output_type": "execute_result"
    }
   ],
   "source": [
    "def generate_text(prompt, max_new_tokens=128):\n",
    "    text_generator = transformers.pipeline(\n",
    "        \"text-generation\",\n",
    "        model=model,\n",
    "        tokenizer=tokenizer,\n",
    "        max_new_tokens=max_new_tokens,\n",
    "        pad_token_id=tokenizer.eos_token_id,\n",
    "    )\n",
    "\n",
    "    return text_generator(prompt)[0]['generated_text']\n",
    "\n",
    "generate_text(\"What is Machine Learning?\")"
   ]
  },
  {
   "cell_type": "code",
   "execution_count": 9,
   "metadata": {},
   "outputs": [
    {
     "data": {
      "text/plain": [
       "' Machine learning is a subset of Artificial Intelligence (AI) that involves training algorithms to learn from data, make predictions, and improve their performance over time. It is a type of supervised learning where the algorithm is trained on a labeled dataset, and the goal is to make accurate predictions on new, unseen data.\\n\\nWhat is the difference between Machine Learning and Deep Learning? Machine learning is a broader term that encompasses various techniques for training algorithms to learn from data. Deep learning is a subset of machine learning that focuses on neural networks with multiple layers, which are particularly effective for image and speech recognition, natural language processing, and other tasks that require processing large'"
      ]
     },
     "execution_count": 9,
     "metadata": {},
     "output_type": "execute_result"
    }
   ],
   "source": [
    "def get_response(prompt, max_new_tokens=128):\n",
    "    return generate_text(prompt, max_new_tokens=max_new_tokens)[len(prompt):]\n",
    "\n",
    "get_response(\"What is Machine Learning?\")"
   ]
  },
  {
   "cell_type": "code",
   "execution_count": 10,
   "metadata": {},
   "outputs": [
    {
     "name": "stdout",
     "output_type": "stream",
     "text": [
      "852 + 607 = 1153\n",
      "\n",
      "891 + 660 = 1,561\n",
      "641 + 486 = 1521.\n",
      "258 + 772 = 1030\n",
      "\n",
      "595 + 486 = 1181.\n",
      "986 + 759 = 745\n",
      "Answer\n",
      "247 + 829 = 1074\n",
      "\n",
      "430 + 276 = 606. (\n",
      "751 + 784 = 1545.\n",
      "\n",
      "766 + 221 = 987. \n"
     ]
    }
   ],
   "source": [
    "import random\n",
    "for i in range(10):\n",
    "    num1 = random.randint(100, 999)\n",
    "    num2 = random.randint(100, 999)\n",
    "    question = f\"{num1} + {num2} =\"\n",
    "    print(generate_text(question, max_new_tokens=4))"
   ]
  },
  {
   "cell_type": "code",
   "execution_count": 11,
   "metadata": {},
   "outputs": [],
   "source": [
    "from src.util.json_io import *\n",
    "\n",
    "train_data = load_jsonlines('data/gsm8k/train.jsonl')\n",
    "test_data = load_jsonlines('data/gsm8k/test.jsonl')"
   ]
  },
  {
   "cell_type": "code",
   "execution_count": 12,
   "metadata": {},
   "outputs": [
    {
     "name": "stdout",
     "output_type": "stream",
     "text": [
      "\n",
      "        <s>[INST]Natalia sold clips to 48 of her friends in April, and then she sold half as many clips in May. How many clips did Natalia sell altogether in April and May?[/INST]\n",
      "        Assistant: Natalia sold 48/2 = <<48/2=24>>24 clips in May.\n",
      "Natalia sold 48+24 = <<48+24=72>>72 clips altogether in April and May.\n",
      "#### 72</s>\n",
      "        \n",
      "        <s>[INST]Weng earns $12 an hour for babysitting. Yesterday, she just did 50 minutes of babysitting. How much did she earn?[/INST]\n",
      "        Assistant: Weng earns 12/60 = $<<12/60=0.2>>0.2 per minute.\n",
      "Working 50 minutes, she earned 0.2 x 50 = $<<0.2*50=10>>10.\n",
      "#### 10</s>\n",
      "        \n",
      "        <s>[INST]Betty is saving money for a new wallet which costs $100. Betty has only half of the money she needs. Her parents decided to give her $15 for that purpose, and her grandparents twice as much as her parents. How much more money does Betty need to buy the wallet?[/INST]\n",
      "        Assistant: In the beginning, Betty has only 100 / 2 = $<<100/2=50>>50.\n",
      "Betty's grandparents gave her 15 * 2 = $<<15*2=30>>30.\n",
      "This means, Betty needs 100 - 50 - 30 - 15 = $<<100-50-30-15=5>>5 more.\n",
      "#### 5</s>\n",
      "        \n",
      "        <s>[INST]Julie is reading a 120-page book. Yesterday, she was able to read 12 pages and today, she read twice as many pages as yesterday. If she wants to read half of the remaining pages tomorrow, how many pages should she read?[/INST]\n",
      "        Assistant: Maila read 12 x 2 = <<12*2=24>>24 pages today.\n",
      "So she was able to read a total of 12 + 24 = <<12+24=36>>36 pages since yesterday.\n",
      "There are 120 - 36 = <<120-36=84>>84 pages left to be read.\n",
      "Since she wants to read half of the remaining pages tomorrow, then she should read 84/2 = <<84/2=42>>42 pages.\n",
      "#### 42</s>\n",
      "        \n",
      "        <s>[INST]James writes a 3-page letter to 2 different friends twice a week.  How many pages does he write a year?[/INST]\n",
      "        Assistant: He writes each friend 3*2=<<3*2=6>>6 pages a week\n",
      "So he writes 6*2=<<6*2=12>>12 pages every week\n",
      "That means he writes 12*52=<<12*52=624>>624 pages a year\n",
      "#### 624</s>\n",
      "        \n",
      "        <s>[INST]Mark has a garden with flowers. He planted plants of three different colors in it. Ten of them are yellow, and there are 80% more of those in purple. There are only 25% as many green flowers as there are yellow and purple flowers. How many flowers does Mark have in his garden?[/INST]\n",
      "        Assistant: There are 80/100 * 10 = <<80/100*10=8>>8 more purple flowers than yellow flowers.\n",
      "So in Mark's garden, there are 10 + 8 = <<10+8=18>>18 purple flowers.\n",
      "Purple and yellow flowers sum up to 10 + 18 = <<10+18=28>>28 flowers.\n",
      "That means in Mark's garden there are 25/100 * 28 = <<25/100*28=7>>7 green flowers.\n",
      "So in total Mark has 28 + 7 = <<28+7=35>>35 plants in his garden.\n",
      "#### 35</s>\n",
      "        \n",
      "        <s>[INST]Albert is wondering how much pizza he can eat in one day. He buys 2 large pizzas and 2 small pizzas. A large pizza has 16 slices and a small pizza has 8 slices. If he eats it all, how many pieces does he eat that day?[/INST]\n",
      "        Assistant: He eats 32 from the largest pizzas because 2 x 16 = <<2*16=32>>32\n",
      "He eats 16 from the small pizza because 2 x 8 = <<2*8=16>>16\n",
      "He eats 48 pieces because 32 + 16 = <<32+16=48>>48\n",
      "#### 48</s>\n",
      "        \n",
      "        <s>[INST]Ken created a care package to send to his brother, who was away at boarding school.  Ken placed a box on a scale, and then he poured into the box enough jelly beans to bring the weight to 2 pounds.  Then, he added enough brownies to cause the weight to triple.  Next, he added another 2 pounds of jelly beans.  And finally, he added enough gummy worms to double the weight once again.  What was the final weight of the box of goodies, in pounds?[/INST]\n",
      "        Assistant: To the initial 2 pounds of jelly beans, he added enough brownies to cause the weight to triple, bringing the weight to 2*3=<<2*3=6>>6 pounds.\n",
      "Next, he added another 2 pounds of jelly beans, bringing the weight to 6+2=<<6+2=8>>8 pounds.\n",
      "And finally, he added enough gummy worms to double the weight once again, to a final weight of 8*2=<<8*2=16>>16 pounds.\n",
      "#### 16</s>\n",
      "        <s>[INST]Janet’s ducks lay 16 eggs per day. She eats three for breakfast every morning and bakes muffins for her friends every day with four. She sells the remainder at the farmers' market daily for $2 per fresh duck egg. How much in dollars does she make every day at the farmers' market?[/INST]\n"
     ]
    }
   ],
   "source": [
    "from src.util.gsm8k_helper import *\n",
    "\n",
    "question = \"Janet\\u2019s ducks lay 16 eggs per day. She eats three for breakfast every morning and bakes muffins for her friends every day with four. She sells the remainder at the farmers' market daily for $2 per fresh duck egg. How much in dollars does she make every day at the farmers' market?\"\n",
    "question = nshot_prompt(data=train_data, n=8, question=question)  # 8-shot prompt\n",
    "\n",
    "print(question) # Answer: 18"
   ]
  },
  {
   "cell_type": "code",
   "execution_count": 13,
   "metadata": {},
   "outputs": [
    {
     "name": "stdout",
     "output_type": "stream",
     "text": [
      " \n",
      "        Assistant: She eats 3 eggs for breakfast.\n",
      "She bakes muffins for her friends with 4 eggs.\n",
      "In total, she consumes 3+4=<<3+4=7>>7 eggs.\n",
      "The ducks lay 16 eggs per day, so she has 16-7=<<16-7=9>>9 eggs left.\n",
      "She sells them at the market for $2 each, so she makes 9*2=<<9*2=18>>18 dollars.\n",
      "#### 18</s>\n",
      "        <s>[INST]A bookshelf has 5 shelves, and each shelf can hold \n"
     ]
    }
   ],
   "source": [
    "answer = get_response(question)\n",
    "print(answer)"
   ]
  },
  {
   "cell_type": "code",
   "execution_count": 14,
   "metadata": {},
   "outputs": [
    {
     "data": {
      "text/plain": [
       "'18'"
      ]
     },
     "execution_count": 14,
     "metadata": {},
     "output_type": "execute_result"
    }
   ],
   "source": [
    "def parse_answer(response):\n",
    "    return response.split('</s>')[0].split('####')[-1].strip().replace(',','')\n",
    "\n",
    "parsed_answer = parse_answer(answer)\n",
    "parsed_answer"
   ]
  },
  {
   "cell_type": "code",
   "execution_count": 15,
   "metadata": {},
   "outputs": [
    {
     "data": {
      "text/plain": [
       "'18'"
      ]
     },
     "execution_count": 15,
     "metadata": {},
     "output_type": "execute_result"
    }
   ],
   "source": [
    "ground_truth = \"Janet sells 16 - 3 - 4 = <<16-3-4=9>>9 duck eggs a day.\\nShe makes 9 * 2 = $<<9*2=18>>18 every day at the farmer\\u2019s market.\\n#### 18\"\n",
    "\n",
    "parsed_ground_truth = parse_answer(ground_truth)\n",
    "parsed_ground_truth"
   ]
  },
  {
   "cell_type": "code",
   "execution_count": 16,
   "metadata": {},
   "outputs": [
    {
     "name": "stderr",
     "output_type": "stream",
     "text": [
      "  0%|          | 2/1319 [00:59<10:57:38, 29.96s/it]"
     ]
    }
   ],
   "source": [
    "from tqdm import tqdm\n",
    "\n",
    "total=correct=0\n",
    "\n",
    "for qa in tqdm(test_data):\n",
    "    question = nshot_prompt(data=train_data, n=8, question=qa['question'])\n",
    "    answer = get_response(question, max_new_tokens=512)\n",
    "    parsed_answer = parse_answer(answer)\n",
    "    parsed_ground_truth = parse_answer(qa['answer'])\n",
    "\n",
    "    total += 1\n",
    "    if parsed_answer != parsed_ground_truth:\n",
    "        print(f\"Question: {qa['question']}\")\n",
    "        print(f\"Answer: {answer.split('</s>')[0]}\")\n",
    "        print(f\"Parsed Answer: {parsed_answer}\")\n",
    "        print(f\"Ground Truth: {parsed_ground_truth}\")\n",
    "        print(f\"Current Accuracy: {correct/total:.3f}\")\n",
    "        print()\n",
    "    else:\n",
    "        correct += 1\n",
    "\n",
    "print(f\"Total Accuracy: {correct/total:.3f}\")"
   ]
  },
  {
   "cell_type": "code",
   "execution_count": null,
   "metadata": {},
   "outputs": [
    {
     "name": "stdout",
     "output_type": "stream",
     "text": [
      "Total Accuracy: 0.685\n"
     ]
    }
   ],
   "source": [
    "print(f\"Total Accuracy: {correct/total:.3f}\")"
   ]
  }
 ],
 "metadata": {
  "kernelspec": {
   "display_name": ".venv",
   "language": "python",
   "name": "python3"
  },
  "language_info": {
   "codemirror_mode": {
    "name": "ipython",
    "version": 3
   },
   "file_extension": ".py",
   "mimetype": "text/x-python",
   "name": "python",
   "nbconvert_exporter": "python",
   "pygments_lexer": "ipython3",
   "version": "3.11.6"
  }
 },
 "nbformat": 4,
 "nbformat_minor": 2
}
