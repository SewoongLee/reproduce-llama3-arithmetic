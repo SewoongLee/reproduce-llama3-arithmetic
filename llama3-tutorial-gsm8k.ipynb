{
 "cells": [
  {
   "cell_type": "code",
   "execution_count": 1,
   "metadata": {},
   "outputs": [],
   "source": [
    "# !python.exe -m pip install --upgrade pip\n",
    "# !pip install --upgrade jupyter ipywidgets"
   ]
  },
  {
   "cell_type": "code",
   "execution_count": 2,
   "metadata": {},
   "outputs": [],
   "source": [
    "# !pip3 install torch torchvision torchaudio --index-url https://download.pytorch.org/whl/cu121"
   ]
  },
  {
   "cell_type": "code",
   "execution_count": 3,
   "metadata": {},
   "outputs": [],
   "source": [
    "# !pip install transformers accelerate bitsandbytes flash-attn"
   ]
  },
  {
   "cell_type": "markdown",
   "metadata": {},
   "source": [
    "## HuggingFace Setting\n",
    "\n",
    "For Windows users, type the following command in Command Prompt:\n",
    "\n",
    "```\n",
    "setx HF_TOKEN \"your_token_here\"\n",
    "```\n",
    "\n",
    "For macOS users, type the following command in Terminal:\n",
    "\n",
    "```\n",
    "export HF_TOKEN=\"your_token_here\"\n",
    "```"
   ]
  },
  {
   "cell_type": "code",
   "execution_count": 4,
   "metadata": {},
   "outputs": [
    {
     "data": {
      "text/plain": [
       "'hf_...'"
      ]
     },
     "execution_count": 4,
     "metadata": {},
     "output_type": "execute_result"
    }
   ],
   "source": [
    "import os\n",
    "HF_TOKEN = os.getenv(\"HF_TOKEN\")\n",
    "HF_TOKEN[:3]+'...'"
   ]
  },
  {
   "cell_type": "markdown",
   "metadata": {},
   "source": [
    "## Load Model"
   ]
  },
  {
   "cell_type": "code",
   "execution_count": 5,
   "metadata": {},
   "outputs": [],
   "source": [
    "model_name = \"meta-llama/Meta-Llama-3-8B-Instruct\""
   ]
  },
  {
   "cell_type": "code",
   "execution_count": 6,
   "metadata": {},
   "outputs": [
    {
     "data": {
      "application/vnd.jupyter.widget-view+json": {
       "model_id": "3c09b4cbaf96429eb9cc36a01b3d0c4d",
       "version_major": 2,
       "version_minor": 0
      },
      "text/plain": [
       "Loading checkpoint shards:   0%|          | 0/4 [00:00<?, ?it/s]"
      ]
     },
     "metadata": {},
     "output_type": "display_data"
    },
    {
     "name": "stderr",
     "output_type": "stream",
     "text": [
      "Special tokens have been added in the vocabulary, make sure the associated word embeddings are fine-tuned or trained.\n"
     ]
    }
   ],
   "source": [
    "import transformers\n",
    "import torch\n",
    "\n",
    "bnb_config = transformers.BitsAndBytesConfig(\n",
    "    load_in_4bit=True,\n",
    "    bnb_4bit_use_double_quant=True,\n",
    "    bnb_4bit_quant_type=\"nf4\",\n",
    "    bnb_4bit_compute_dtype=torch.bfloat16,\n",
    ")\n",
    "\n",
    "model = transformers.AutoModelForCausalLM.from_pretrained(\n",
    "    model_name,\n",
    "    device_map=\"auto\",\n",
    "    quantization_config=bnb_config,\n",
    "    token=HF_TOKEN,\n",
    ")\n",
    "\n",
    "tokenizer = transformers.AutoTokenizer.from_pretrained(\n",
    "    model_name, \n",
    "    token=HF_TOKEN, \n",
    ")\n",
    "\n",
    "generator = transformers.pipeline(\n",
    "    \"text-generation\",\n",
    "    model=model,\n",
    "    tokenizer=tokenizer,\n",
    "    pad_token_id=tokenizer.eos_token_id,\n",
    "    # max_new_tokens=1024,\n",
    ")\n",
    "\n",
    "def get_response(chats): \n",
    "    gen_text = generator(chats)[0]  # First return sequence\n",
    "    return gen_text['generated_text'][-1]['content']"
   ]
  },
  {
   "cell_type": "markdown",
   "metadata": {},
   "source": [
    "## Load Data"
   ]
  },
  {
   "cell_type": "code",
   "execution_count": 7,
   "metadata": {},
   "outputs": [
    {
     "data": {
      "text/plain": [
       "[{'role': 'user',\n",
       "  'content': 'For every 12 cans you recycle, you receive $0.50, and for every 5 kilograms of newspapers, you receive $1.50. If your family collected 144 cans and 20 kilograms of newspapers, how much money would you receive?'},\n",
       " {'role': 'assistant',\n",
       "  'content': 'There are 144/12 = <<144/12=12>>12 sets of 12 cans that the family collected.\\nSo, the family would receive $0.50 x 12 = $<<0.50*12=6>>6 for the cans.\\nThere are 20/5 = <<20/5=4>>4 sets of 5 kilograms of newspapers that the family collected.\\nSo, the family would receive $1.50 x 4 = $<<1.50*4=6>>6 for the newspapers.\\nTherefore, the family would receive a total of $6 + $6 = $<<6+6=12>>12.\\n#### 12'},\n",
       " {'role': 'user',\n",
       "  'content': 'Betty picked 16 strawberries. Matthew picked 20 more strawberries than Betty and twice as many as Natalie. They used their strawberries to make jam. One jar of jam used 7 strawberries and they sold each jar at $4. How much money were they able to make from the strawberries they picked?'},\n",
       " {'role': 'assistant',\n",
       "  'content': 'Matthew picked 16 + 20 = <<16+20=36>>36 strawberries.\\nNatalie picked 36/2 = <<36/2=18>>18 strawberries.\\nAll together, they have 16 + 36 + 18 = <<16+36+18=70>>70 strawberries.\\nThey can make 70/7 = <<70/7=10>>10 jars of strawberries.\\nThey earn 10 x $4 = $<<10*4=40>>40 from the strawberries they picked.\\n#### 40'},\n",
       " {'role': 'user',\n",
       "  'content': 'Jack has a stack of books that is 12 inches thick. He knows from experience that 80 pages is one inch thick. If he has 6 books, how many pages is each one on average?'},\n",
       " {'role': 'assistant',\n",
       "  'content': 'There are 960 pages because 80 x 12 = <<80*12=960>>960\\nEach book is 160 pages because 960 / 6 = <<960/6=160>>160\\n#### 160'},\n",
       " {'role': 'user',\n",
       "  'content': \"James dumps his whole collection of 500 Legos on the floor and starts building a castle out of them.  He uses half the pieces before finishing and is told to put the rest away.  He puts all of the leftover pieces back in the box they came from, except for 5 missing pieces that he can't find.  How many Legos are in the box at the end?\"},\n",
       " {'role': 'assistant',\n",
       "  'content': \"James starts with 500 Legos and uses half of them, leaving 500/2=<<500/2=250>>250 Legos unused.\\nHe puts those unused Legos away but since he's missing 5 he only puts 250-5=<<250-5=245>>245 Legos away.\\n#### 245\"},\n",
       " {'role': 'user',\n",
       "  'content': 'Ines had $20 in her purse. She bought 3 pounds of peaches, which are $2 per pound at the local farmers’ market. How much did she have left?'},\n",
       " {'role': 'assistant',\n",
       "  'content': 'Ines bought 3 pounds of peaches for 3 peaches * $2/peach = $<<3*2=6>>6.\\nInes has $20 - $6 = $<<20-6=14>>14 left.\\n#### 14'},\n",
       " {'role': 'user',\n",
       "  'content': 'Aaron pays his actuary membership fees each year. The membership fee increases yearly by $10. If he pays $80 in the first year, how much does his membership cost, in dollars, in the sixth year?'},\n",
       " {'role': 'assistant',\n",
       "  'content': 'In year 2 he pays 80+10=$<<80+10=90>>90.\\nIn year 3 he pays 90+10=$<<90+10=100>>100.\\nIn year 4 he pays 100+10=$<<100+10=110>>110.\\nIn year 5 he pays 110+10=$<<110+10=120>>120.\\nIn year 6 he pays 120+10=$<<120+10=130>>130.\\n#### 130'},\n",
       " {'role': 'user',\n",
       "  'content': 'Joseph invested $1000 into a hedge fund. The fund promised a yearly interest rate of 10%. If he deposited an additional $100 every month into the account to add to his initial investment of $1000, how much money will he have in the fund after two years?'},\n",
       " {'role': 'assistant',\n",
       "  'content': \"For the first year, Joseph will have invested $1000 + ($100 * 12) = $<<1000+100*12=2200>>2200.\\nThe interest calculated for the first year will be $2200 * 10% = $<<2200*10*.01=220>>220.\\nThe total value of the investment for the first year will be $2200 + $220 = $<<2200+220=2420>>2420.\\nFor the second year, the total invested will be $2420 + ($100 * 12) = $<<2420+100*12=3620>>3620.\\nThe interest calculated after the second year will be $3620 * 10% = $<<3620*10*.01=362>>362.\\nTherefore, Joseph's investment in the mutual fund will be worth $3620 + $362 = $<<3620+362=3982>>3982.\\n#### 3982\"},\n",
       " {'role': 'user',\n",
       "  'content': 'The price of buying a wooden toy at the new Craftee And Best store is $20, and the cost of buying a hat is $10. If Kendra went to the shop with a $100 bill and bought two wooden toys and three hats, calculate the change she received.'},\n",
       " {'role': 'assistant',\n",
       "  'content': 'When Kendra bought 2 toys, she paid 2*$20 = $<<2*20=40>>40\\nSince the price of a hat is $10, when Kendra bought 3 hats, she paid 3*$10 = $<<3*10=30>>30\\nThe total costs for the hats and wooden toys Kendra bought is $40+$30 = $<<40+30=70>>70\\nFrom the $100 bill, Kendra received change worth $100-$70 =$<<100-70=30>>30\\n#### 30'},\n",
       " {'role': 'user',\n",
       "  'content': \"Janet’s ducks lay 16 eggs per day. She eats three for breakfast every morning and bakes muffins for her friends every day with four. She sells the remainder at the farmers' market daily for $2 per fresh duck egg. How much in dollars does she make every day at the farmers' market?\"}]"
      ]
     },
     "execution_count": 7,
     "metadata": {},
     "output_type": "execute_result"
    }
   ],
   "source": [
    "from src.util.json_io import *\n",
    "\n",
    "train_data = load_jsonlines('data/gsm8k/train.jsonl')\n",
    "test_data = load_jsonlines('data/gsm8k/test.jsonl')\n",
    "\n",
    "from src.util.gsm8k_helper import *\n",
    "\n",
    "messages = nshot_chats(nshot_data=train_data, n=8, question=test_data[0]['question'])  # 8-shot prompt\n",
    "messages"
   ]
  },
  {
   "cell_type": "code",
   "execution_count": 8,
   "metadata": {},
   "outputs": [
    {
     "name": "stderr",
     "output_type": "stream",
     "text": [
      "e:\\reproduce-llama3-arithmetic\\.venv\\Lib\\site-packages\\transformers\\models\\llama\\modeling_llama.py:649: UserWarning: 1Torch was not compiled with flash attention. (Triggered internally at ..\\aten\\src\\ATen\\native\\transformers\\cuda\\sdp_utils.cpp:455.)\n",
      "  attn_output = torch.nn.functional.scaled_dot_product_attention(\n"
     ]
    },
    {
     "name": "stdout",
     "output_type": "stream",
     "text": [
      "Janet's ducks lay 16 eggs per day, so she has 16 eggs initially.\n",
      "\n",
      "She eats 3 eggs for breakfast, leaving her with 16 - 3 = 13 eggs.\n",
      "\n",
      "She uses 4 eggs to bake muffins, leaving her with 13 - 4 = 9 eggs.\n",
      "\n",
      "She sells the remaining 9 eggs at the farmers' market for $2 per egg, making a total of 9 * $2 = $18.\n",
      "\n",
      "#### 18\n"
     ]
    },
    {
     "data": {
      "text/plain": [
       "'18'"
      ]
     },
     "execution_count": 8,
     "metadata": {},
     "output_type": "execute_result"
    }
   ],
   "source": [
    "response = get_response(messages)\n",
    "print(response)\n",
    "\n",
    "pred_ans = extract_ans_from_response(response)\n",
    "pred_ans"
   ]
  },
  {
   "cell_type": "code",
   "execution_count": 9,
   "metadata": {},
   "outputs": [
    {
     "name": "stdout",
     "output_type": "stream",
     "text": [
      "Janet sells 16 - 3 - 4 = <<16-3-4=9>>9 duck eggs a day.\n",
      "She makes 9 * 2 = $<<9*2=18>>18 every day at the farmer’s market.\n",
      "#### 18\n"
     ]
    },
    {
     "data": {
      "text/plain": [
       "'18'"
      ]
     },
     "execution_count": 9,
     "metadata": {},
     "output_type": "execute_result"
    }
   ],
   "source": [
    "ground_truth = test_data[0]['answer']\n",
    "print(ground_truth)\n",
    "\n",
    "true_ans = extract_ans_from_response(ground_truth)\n",
    "true_ans"
   ]
  },
  {
   "cell_type": "code",
   "execution_count": 10,
   "metadata": {},
   "outputs": [
    {
     "name": "stdout",
     "output_type": "stream",
     "text": [
      "[{'role': 'user', 'content': 'For every 12 cans you recycle, you receive $0.50, and for every 5 kilograms of newspapers, you receive $1.50. If your family collected 144 cans and 20 kilograms of newspapers, how much money would you receive?'}, {'role': 'assistant', 'content': 'There are 144/12 = <<144/12=12>>12 sets of 12 cans that the family collected.\\nSo, the family would receive $0.50 x 12 = $<<0.50*12=6>>6 for the cans.\\nThere are 20/5 = <<20/5=4>>4 sets of 5 kilograms of newspapers that the family collected.\\nSo, the family would receive $1.50 x 4 = $<<1.50*4=6>>6 for the newspapers.\\nTherefore, the family would receive a total of $6 + $6 = $<<6+6=12>>12.\\n#### 12'}, {'role': 'user', 'content': 'Betty picked 16 strawberries. Matthew picked 20 more strawberries than Betty and twice as many as Natalie. They used their strawberries to make jam. One jar of jam used 7 strawberries and they sold each jar at $4. How much money were they able to make from the strawberries they picked?'}, {'role': 'assistant', 'content': 'Matthew picked 16 + 20 = <<16+20=36>>36 strawberries.\\nNatalie picked 36/2 = <<36/2=18>>18 strawberries.\\nAll together, they have 16 + 36 + 18 = <<16+36+18=70>>70 strawberries.\\nThey can make 70/7 = <<70/7=10>>10 jars of strawberries.\\nThey earn 10 x $4 = $<<10*4=40>>40 from the strawberries they picked.\\n#### 40'}, {'role': 'user', 'content': 'Jack has a stack of books that is 12 inches thick. He knows from experience that 80 pages is one inch thick. If he has 6 books, how many pages is each one on average?'}, {'role': 'assistant', 'content': 'There are 960 pages because 80 x 12 = <<80*12=960>>960\\nEach book is 160 pages because 960 / 6 = <<960/6=160>>160\\n#### 160'}, {'role': 'user', 'content': \"James dumps his whole collection of 500 Legos on the floor and starts building a castle out of them.  He uses half the pieces before finishing and is told to put the rest away.  He puts all of the leftover pieces back in the box they came from, except for 5 missing pieces that he can't find.  How many Legos are in the box at the end?\"}, {'role': 'assistant', 'content': \"James starts with 500 Legos and uses half of them, leaving 500/2=<<500/2=250>>250 Legos unused.\\nHe puts those unused Legos away but since he's missing 5 he only puts 250-5=<<250-5=245>>245 Legos away.\\n#### 245\"}, {'role': 'user', 'content': 'Ines had $20 in her purse. She bought 3 pounds of peaches, which are $2 per pound at the local farmers’ market. How much did she have left?'}, {'role': 'assistant', 'content': 'Ines bought 3 pounds of peaches for 3 peaches * $2/peach = $<<3*2=6>>6.\\nInes has $20 - $6 = $<<20-6=14>>14 left.\\n#### 14'}, {'role': 'user', 'content': 'Aaron pays his actuary membership fees each year. The membership fee increases yearly by $10. If he pays $80 in the first year, how much does his membership cost, in dollars, in the sixth year?'}, {'role': 'assistant', 'content': 'In year 2 he pays 80+10=$<<80+10=90>>90.\\nIn year 3 he pays 90+10=$<<90+10=100>>100.\\nIn year 4 he pays 100+10=$<<100+10=110>>110.\\nIn year 5 he pays 110+10=$<<110+10=120>>120.\\nIn year 6 he pays 120+10=$<<120+10=130>>130.\\n#### 130'}, {'role': 'user', 'content': 'Joseph invested $1000 into a hedge fund. The fund promised a yearly interest rate of 10%. If he deposited an additional $100 every month into the account to add to his initial investment of $1000, how much money will he have in the fund after two years?'}, {'role': 'assistant', 'content': \"For the first year, Joseph will have invested $1000 + ($100 * 12) = $<<1000+100*12=2200>>2200.\\nThe interest calculated for the first year will be $2200 * 10% = $<<2200*10*.01=220>>220.\\nThe total value of the investment for the first year will be $2200 + $220 = $<<2200+220=2420>>2420.\\nFor the second year, the total invested will be $2420 + ($100 * 12) = $<<2420+100*12=3620>>3620.\\nThe interest calculated after the second year will be $3620 * 10% = $<<3620*10*.01=362>>362.\\nTherefore, Joseph's investment in the mutual fund will be worth $3620 + $362 = $<<3620+362=3982>>3982.\\n#### 3982\"}, {'role': 'user', 'content': 'The price of buying a wooden toy at the new Craftee And Best store is $20, and the cost of buying a hat is $10. If Kendra went to the shop with a $100 bill and bought two wooden toys and three hats, calculate the change she received.'}, {'role': 'assistant', 'content': 'When Kendra bought 2 toys, she paid 2*$20 = $<<2*20=40>>40\\nSince the price of a hat is $10, when Kendra bought 3 hats, she paid 3*$10 = $<<3*10=30>>30\\nThe total costs for the hats and wooden toys Kendra bought is $40+$30 = $<<40+30=70>>70\\nFrom the $100 bill, Kendra received change worth $100-$70 =$<<100-70=30>>30\\n#### 30'}, {'role': 'user', 'content': 'A robe takes 2 bolts of blue fiber and half that much white fiber.  How many bolts in total does it take?'}]\n",
      "The robe takes 2 bolts of blue fiber. For the white fiber, it takes half of that, which is 2/2 = 1 bolt. In total, the robe takes 2 + 1 = 3 bolts of fiber.\n"
     ]
    },
    {
     "data": {
      "text/plain": [
       "'The robe takes 2 bolts of blue fiber. For the white fiber it takes half of that which is 2/2 = 1 bolt. In total the robe takes 2 + 1 = 3 bolts of fiber.'"
      ]
     },
     "execution_count": 10,
     "metadata": {},
     "output_type": "execute_result"
    }
   ],
   "source": [
    "messages = nshot_chats(nshot_data=train_data, n=8, question=test_data[1]['question'])  # 8-shot prompt\n",
    "print(messages)\n",
    "\n",
    "response = get_response(messages)\n",
    "print(response)\n",
    "\n",
    "pred_ans = extract_ans_from_response(response)\n",
    "pred_ans"
   ]
  },
  {
   "cell_type": "code",
   "execution_count": 11,
   "metadata": {},
   "outputs": [
    {
     "name": "stderr",
     "output_type": "stream",
     "text": [
      " 40%|████      | 8/20 [00:44<01:18,  6.55s/it]You seem to be using the pipelines sequentially on GPU. In order to maximize efficiency please use a dataset\n",
      "100%|██████████| 20/20 [02:26<00:00,  7.33s/it]\n"
     ]
    }
   ],
   "source": [
    "from tqdm import tqdm\n",
    "import os\n",
    "\n",
    "if not os.path.exists('log'):\n",
    "    os.makedirs('log')\n",
    "\n",
    "log_file_path = 'log/errors.txt'\n",
    "with open(log_file_path, 'w') as log_file:\n",
    "    log_file.write('')\n",
    "\n",
    "\n",
    "total = correct = 0\n",
    "for qna in tqdm(test_data[:20]):\n",
    "\n",
    "    messages = nshot_chats(nshot_data=train_data, n=8, question=qna['question'])\n",
    "    response = get_response(messages)\n",
    "    \n",
    "    pred_ans = extract_ans_from_response(response)\n",
    "    true_ans = extract_ans_from_response(qna['answer'])\n",
    "\n",
    "    total += 1\n",
    "    if pred_ans != true_ans:\n",
    "        with open(log_file_path, 'a', encoding='utf-8') as log_file:\n",
    "            log_file.write(f\"{messages}\\n\\n\")\n",
    "            log_file.write(f\"Response: {response}\\n\\n\")\n",
    "            log_file.write(f\"Ground Truth: {qna['answer']}\\n\\n\")\n",
    "            log_file.write(f\"Current Accuracy: {correct/total:.3f}\\n\\n\")\n",
    "            log_file.write('\\n\\n')\n",
    "    else:\n",
    "        correct += 1"
   ]
  },
  {
   "cell_type": "code",
   "execution_count": 12,
   "metadata": {},
   "outputs": [
    {
     "name": "stdout",
     "output_type": "stream",
     "text": [
      "Total Accuracy: 0.350\n"
     ]
    }
   ],
   "source": [
    "print(f\"Total Accuracy: {correct/total:.3f}\")"
   ]
  },
  {
   "cell_type": "code",
   "execution_count": null,
   "metadata": {},
   "outputs": [],
   "source": []
  }
 ],
 "metadata": {
  "kernelspec": {
   "display_name": ".venv",
   "language": "python",
   "name": "python3"
  },
  "language_info": {
   "codemirror_mode": {
    "name": "ipython",
    "version": 3
   },
   "file_extension": ".py",
   "mimetype": "text/x-python",
   "name": "python",
   "nbconvert_exporter": "python",
   "pygments_lexer": "ipython3",
   "version": "3.11.6"
  }
 },
 "nbformat": 4,
 "nbformat_minor": 2
}
